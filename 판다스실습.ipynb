{
  "nbformat": 4,
  "nbformat_minor": 0,
  "metadata": {
    "colab": {
      "provenance": [],
      "authorship_tag": "ABX9TyNucvRi5cV8CgaWVPGvJ1KY",
      "include_colab_link": true
    },
    "kernelspec": {
      "name": "python3",
      "display_name": "Python 3"
    },
    "language_info": {
      "name": "python"
    }
  },
  "cells": [
    {
      "cell_type": "markdown",
      "metadata": {
        "id": "view-in-github",
        "colab_type": "text"
      },
      "source": [
        "<a href=\"https://colab.research.google.com/github/GGS126/main/blob/main/%ED%8C%90%EB%8B%A4%EC%8A%A4%EC%8B%A4%EC%8A%B5.ipynb\" target=\"_parent\"><img src=\"https://colab.research.google.com/assets/colab-badge.svg\" alt=\"Open In Colab\"/></a>"
      ]
    },
    {
      "cell_type": "code",
      "execution_count": null,
      "metadata": {
        "colab": {
          "base_uri": "https://localhost:8080/"
        },
        "id": "_u34QREwihbk",
        "outputId": "e5c010ba-89e8-4c7e-a335-cb78906a4566"
      },
      "outputs": [
        {
          "output_type": "stream",
          "name": "stdout",
          "text": [
            "▶ 전공이 컴퓨터공학인 학생\n",
            "     학번   이름     전공  수학  영어  컴퓨터    평균\n",
            "0  S001  김민수  컴퓨터공학  80  75   90  81.7\n",
            "2  S003  박지훈  컴퓨터공학  92  79   95  88.7\n",
            "5  S006  김하늘  컴퓨터공학  88  90   92  90.0\n",
            "\n",
            "▶ 평균 점수가 85점 이상인 학생\n",
            "     학번   이름     전공  수학  영어  컴퓨터    평균\n",
            "2  S003  박지훈  컴퓨터공학  92  79   95  88.7\n",
            "5  S006  김하늘  컴퓨터공학  88  90   92  90.0\n"
          ]
        }
      ],
      "source": [
        "import pandas as pd\n",
        "\n",
        "col_name = ['학번','이름', '전공', '수학' ,'영어' ,'컴퓨터']\n",
        "list1 = [\n",
        "    ['S001', '김민수', '컴퓨터공학', 80, 75 ,90],\n",
        "    ['S002', '이수정', '경영학', 85, 55 ,75],\n",
        "    ['S003', '박지훈', '컴퓨터공학', 92, 79 ,95],\n",
        "    ['S004', '최영희', '디자인', 70, 85 ,80],\n",
        "    ['S005', '홍길동', '경영학', 78, 82 ,85],\n",
        "    ['S006', '김하늘', '컴퓨터공학', 88, 90 ,92]\n",
        "]\n",
        "\n",
        "df = pd.DataFrame(list1, columns=col_name)\n",
        "df['평균'] = df[['수학', '영어', '컴퓨터']].mean(axis=1).round(1)\n",
        "\n",
        "print(\"▶ 전공이 컴퓨터공학인 학생\")\n",
        "print(df[df['전공'] == '컴퓨터공학'])\n",
        "\n",
        "print(\"\\n▶ 평균 점수가 85점 이상인 학생\")\n",
        "print(df[df['평균'] >= 85])\n"
      ]
    }
  ]
}