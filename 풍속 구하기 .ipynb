{
  "nbformat": 4,
  "nbformat_minor": 0,
  "metadata": {
    "colab": {
      "provenance": [],
      "authorship_tag": "ABX9TyPeeu3PCXkDmDejvLbci4sm",
      "include_colab_link": true
    },
    "kernelspec": {
      "name": "python3",
      "display_name": "Python 3"
    },
    "language_info": {
      "name": "python"
    }
  },
  "cells": [
    {
      "cell_type": "markdown",
      "metadata": {
        "id": "view-in-github",
        "colab_type": "text"
      },
      "source": [
        "<a href=\"https://colab.research.google.com/github/GGS126/main/blob/main/%ED%92%8D%EC%86%8D%20%EA%B5%AC%ED%95%98%EA%B8%B0%20.ipynb\" target=\"_parent\"><img src=\"https://colab.research.google.com/assets/colab-badge.svg\" alt=\"Open In Colab\"/></a>"
      ]
    },
    {
      "cell_type": "code",
      "execution_count": 9,
      "metadata": {
        "colab": {
          "base_uri": "https://localhost:8080/"
        },
        "id": "HsrNVhilmRZw",
        "outputId": "c4200949-644a-4177-e036-f630f869d90e"
      },
      "outputs": [
        {
          "output_type": "stream",
          "name": "stdout",
          "text": [
            "지난 10년간 울릉도의 최대 풍속: 26.0 m/s\n"
          ]
        }
      ],
      "source": [
        "# prompt: weather_a.csv를 이용하여 지난 10년간 울릉도의 최대 풍속을 구하라.\n",
        "# 한 행을 읽었다고 했을 때 row[2]에 풍속 데이터가 있을 때,\n",
        "\n",
        "import csv\n",
        "\n",
        "def find_max_wind_speed(filename):\n",
        "  \"\"\"\n",
        "  지난 10년간 울릉도의 최대 풍속을 구하는 함수입니다.\n",
        "\n",
        "  Args:\n",
        "    filename: CSV 파일 이름.\n",
        "\n",
        "  Returns:\n",
        "    최대 풍속 값.\n",
        "  \"\"\"\n",
        "\n",
        "  max_wind_speed = 0\n",
        "  with open(filename, 'r', encoding='cp949') as file:\n",
        "    reader = csv.reader(file)\n",
        "    next(reader)  # 헤더 행 건너뛰기\n",
        "\n",
        "    for row in reader:\n",
        "      try:\n",
        "        wind_speed = float(row[2])  # 풍속 데이터를 float으로 변환\n",
        "        if wind_speed > max_wind_speed:\n",
        "          max_wind_speed = wind_speed\n",
        "      except (ValueError, IndexError):\n",
        "        # 풍속 데이터가 없거나 유효하지 않은 경우 무시\n",
        "        pass\n",
        "\n",
        "  return max_wind_speed\n",
        "\n",
        "# CSV 파일 이름을 지정합니다.\n",
        "filename = 'weather_a.csv'\n",
        "\n",
        "# 최대 풍속을 구합니다.\n",
        "max_wind_speed = find_max_wind_speed(filename)\n",
        "\n",
        "# 결과를 출력합니다.\n",
        "print(f\"지난 10년간 울릉도의 최대 풍속: {max_wind_speed} m/s\")\n"
      ]
    }
  ]
}