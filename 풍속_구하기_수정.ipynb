{
  "nbformat": 4,
  "nbformat_minor": 0,
  "metadata": {
    "colab": {
      "provenance": [],
      "authorship_tag": "ABX9TyNrMW0FNQIi7ej/2XdNWSh9",
      "include_colab_link": true
    },
    "kernelspec": {
      "name": "python3",
      "display_name": "Python 3"
    },
    "language_info": {
      "name": "python"
    }
  },
  "cells": [
    {
      "cell_type": "markdown",
      "metadata": {
        "id": "view-in-github",
        "colab_type": "text"
      },
      "source": [
        "<a href=\"https://colab.research.google.com/github/GGS126/main/blob/main/%ED%92%8D%EC%86%8D_%EA%B5%AC%ED%95%98%EA%B8%B0_%EC%88%98%EC%A0%95.ipynb\" target=\"_parent\"><img src=\"https://colab.research.google.com/assets/colab-badge.svg\" alt=\"Open In Colab\"/></a>"
      ]
    },
    {
      "cell_type": "code",
      "execution_count": 22,
      "metadata": {
        "colab": {
          "base_uri": "https://localhost:8080/"
        },
        "id": "hmDCdxGsuvDv",
        "outputId": "1e9d245a-9822-4649-d7fb-3370d1a23e8b"
      },
      "outputs": [
        {
          "output_type": "stream",
          "name": "stdout",
          "text": [
            "지난 10년간 울릉도의 최대 풍속: 26.0 m/s\n"
          ]
        }
      ],
      "source": [
        "import csv\n",
        "\n",
        "def find_max_wind_speed(Source):\n",
        "\n",
        "  max_wind = 0\n",
        "\n",
        "  with open (Source, 'r', encoding='cp949') as source:\n",
        "\n",
        "    reader = csv.reader(source)\n",
        "    next(reader)\n",
        "\n",
        "    for row in reader:\n",
        "\n",
        "      try:\n",
        "        wind_speed = float(row[2])\n",
        "\n",
        "        if wind_speed > max_wind:\n",
        "          max_wind = wind_speed\n",
        "\n",
        "      except (ValueError, IndexError):\n",
        "        pass\n",
        "\n",
        "  return max_wind\n",
        "\n",
        "Source = 'weather_a.csv'\n",
        "\n",
        "max_wind = find_max_wind_speed(Source)\n",
        "\n",
        "print(f\"지난 10년간 울릉도의 최대 풍속: {max_wind} m/s\")\n"
      ]
    }
  ]
}