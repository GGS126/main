{
  "nbformat": 4,
  "nbformat_minor": 0,
  "metadata": {
    "colab": {
      "provenance": [],
      "authorship_tag": "ABX9TyPc5gFuK5g70Tt0BK36qohT",
      "include_colab_link": true
    },
    "kernelspec": {
      "name": "python3",
      "display_name": "Python 3"
    },
    "language_info": {
      "name": "python"
    }
  },
  "cells": [
    {
      "cell_type": "markdown",
      "metadata": {
        "id": "view-in-github",
        "colab_type": "text"
      },
      "source": [
        "<a href=\"https://colab.research.google.com/github/GGS126/main/blob/main/Untitled0.ipynb\" target=\"_parent\"><img src=\"https://colab.research.google.com/assets/colab-badge.svg\" alt=\"Open In Colab\"/></a>"
      ]
    },
    {
      "cell_type": "code",
      "execution_count": 10,
      "metadata": {
        "colab": {
          "base_uri": "https://localhost:8080/"
        },
        "id": "BgVQk8QF06W-",
        "outputId": "e37fec59-7e32-4570-bf5e-0b5d71c12a89"
      },
      "outputs": [
        {
          "output_type": "stream",
          "name": "stdout",
          "text": [
            "원본 데이터 :  [10 20 30 40 50]\n",
            "[ 표준화 결과 ]\n",
            "[-1.41421356 -0.70710678  0.          0.70710678  1.41421356]\n",
            "[ 정규화 결과 ]\n",
            "[0.   0.25 0.5  0.75 1.  ]\n"
          ]
        }
      ],
      "source": [
        "import numpy as np\n",
        "\n",
        "data = np.array([10, 20, 30, 40, 50])\n",
        "mean = np.mean(data)\n",
        "std = np.std(data)\n",
        "min_val = np.min(data)\n",
        "max_val = np.max(data)\n",
        "\n",
        "standardized_data = (data - mean) / std\n",
        "\n",
        "normalized_data = (data - min_val) / (max_val - min_val)\n",
        "\n",
        "print(\"원본 데이터 : \" , data )\n",
        "print(\"[ 표준화 결과 ]\")\n",
        "print(standardized_data)\n",
        "print(\"[ 정규화 결과 ]\")\n",
        "print(normalized_data)\n"
      ]
    }
  ]
}