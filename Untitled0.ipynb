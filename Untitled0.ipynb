{
  "nbformat": 4,
  "nbformat_minor": 0,
  "metadata": {
    "colab": {
      "provenance": [],
      "authorship_tag": "ABX9TyMCtBdp0i45yrzSFTC53aQC",
      "include_colab_link": true
    },
    "kernelspec": {
      "name": "python3",
      "display_name": "Python 3"
    },
    "language_info": {
      "name": "python"
    }
  },
  "cells": [
    {
      "cell_type": "markdown",
      "metadata": {
        "id": "view-in-github",
        "colab_type": "text"
      },
      "source": [
        "<a href=\"https://colab.research.google.com/github/GGS126/main/blob/main/Untitled0.ipynb\" target=\"_parent\"><img src=\"https://colab.research.google.com/assets/colab-badge.svg\" alt=\"Open In Colab\"/></a>"
      ]
    },
    {
      "cell_type": "code",
      "execution_count": 18,
      "metadata": {
        "colab": {
          "base_uri": "https://localhost:8080/"
        },
        "id": "BgVQk8QF06W-",
        "outputId": "826a6dc2-5805-4580-9739-8e21211795fb"
      },
      "outputs": [
        {
          "output_type": "stream",
          "name": "stdout",
          "text": [
            "원본 데이터 :  [10 20 30 40 50]\n",
            " \n",
            "[ 표준화 결과 ] : \n",
            "[-1.41421356 -0.70710678  0.          0.70710678  1.41421356]\n",
            " \n",
            "[ 정규화 결과 ] : \n",
            "[0.   0.25 0.5  0.75 1.  ]\n"
          ]
        }
      ],
      "source": [
        "import numpy as np\n",
        "\n",
        "data = np.array([10, 20, 30, 40, 50])\n",
        "mean = np.mean(data)\n",
        "std = np.std(data)\n",
        "min_a = np.min(data)\n",
        "max_a = np.max(data)\n",
        "\n",
        "standardized_data = (data - mean) / std\n",
        "\n",
        "normalized_data = (data - min_a) / (max_a - min_a)\n",
        "\n",
        "print(\"원본 데이터 : \" , data )\n",
        "\n",
        "print(\" \\n[ 표준화 결과 ] : \")\n",
        "print(standardized_data)\n",
        "\n",
        "print(\" \\n[ 정규화 결과 ] : \")\n",
        "print(normalized_data)\n"
      ]
    }
  ]
}