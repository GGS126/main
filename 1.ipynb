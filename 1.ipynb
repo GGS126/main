{
  "nbformat": 4,
  "nbformat_minor": 0,
  "metadata": {
    "colab": {
      "provenance": [],
      "include_colab_link": true
    },
    "kernelspec": {
      "name": "python3",
      "display_name": "Python 3"
    },
    "language_info": {
      "name": "python"
    }
  },
  "cells": [
    {
      "cell_type": "markdown",
      "metadata": {
        "id": "view-in-github",
        "colab_type": "text"
      },
      "source": [
        "<a href=\"https://colab.research.google.com/github/GGS126/main/blob/main/1.ipynb\" target=\"_parent\"><img src=\"https://colab.research.google.com/assets/colab-badge.svg\" alt=\"Open In Colab\"/></a>"
      ]
    },
    {
      "cell_type": "code",
      "source": [
        "import random\n",
        "class Character:\n",
        "\n",
        "    def __init__(self, name, life):\n",
        "        self.name = name\n",
        "        self.life = life\n",
        "\n",
        "    def Deal(self):\n",
        "        self.life = self.life - 10\n",
        "        print(f\"{self.name}가 공격받음!   생명력 : {self.life}\")\n",
        "\n",
        "\n",
        "champ1 = Character(\"신지드\", 1000)\n",
        "champ2 = Character(\"징크스\", 600)\n",
        "champ3 = Character(\"크산테\", 900)\n",
        "champs = [champ1, champ2, champ3]\n",
        "\n",
        "\n",
        "for C in range(10):\n",
        "    random_champ = random.choice(champs)\n",
        "    random_champ.Deal()\n"
      ],
      "metadata": {
        "colab": {
          "base_uri": "https://localhost:8080/"
        },
        "id": "BG12Lbnr4qQw",
        "outputId": "5f2ac030-6450-448c-f9b8-84374eaf5dfc"
      },
      "execution_count": null,
      "outputs": [
        {
          "output_type": "stream",
          "name": "stdout",
          "text": [
            "크산테가 공격받음!   생명력 : 890\n",
            "신지드가 공격받음!   생명력 : 990\n",
            "크산테가 공격받음!   생명력 : 880\n",
            "징크스가 공격받음!   생명력 : 590\n",
            "크산테가 공격받음!   생명력 : 870\n",
            "징크스가 공격받음!   생명력 : 580\n",
            "징크스가 공격받음!   생명력 : 570\n",
            "신지드가 공격받음!   생명력 : 980\n",
            "크산테가 공격받음!   생명력 : 860\n",
            "신지드가 공격받음!   생명력 : 970\n"
          ]
        }
      ]
    },
    {
      "cell_type": "code",
      "source": [
        "class Person:\n",
        "\n",
        "  def __init__(self, name, age):\n",
        "    self.name = name\n",
        "    self.age = age\n",
        "\n",
        "  def get_name(self):\n",
        "    return self.name\n",
        "\n",
        "  def get_age(self):\n",
        "    return self.age\n",
        "\n",
        "a = Person('YangMin', 27)\n",
        "b = Person('Jordan', 32)\n",
        "print(f\"{a.get_name()} is {a.get_age()} years old \")\n",
        "print(f\"{b.get_name()} is {b.get_age()} years old \")\n"
      ],
      "metadata": {
        "colab": {
          "base_uri": "https://localhost:8080/"
        },
        "id": "u-M2TehgCWzN",
        "outputId": "c8fcdec9-fbb5-43f9-80ed-bfc68a6ab6bb"
      },
      "execution_count": null,
      "outputs": [
        {
          "output_type": "stream",
          "name": "stdout",
          "text": [
            "YangMin is 27 years old \n",
            "Jordan is 32 years old \n"
          ]
        }
      ]
    }
  ]
}