{
  "cells": [
    {
      "cell_type": "markdown",
      "metadata": {
        "id": "view-in-github",
        "colab_type": "text"
      },
      "source": [
        "<a href=\"https://colab.research.google.com/github/GGS126/main/blob/main/MBTI%20%EC%98%88%EC%B8%A1.ipynb\" target=\"_parent\"><img src=\"https://colab.research.google.com/assets/colab-badge.svg\" alt=\"Open In Colab\"/></a>"
      ]
    },
    {
      "cell_type": "code",
      "source": [
        "import pandas as pd\n",
        "from sklearn.feature_extraction.text import TfidfVectorizer\n",
        "from sklearn.linear_model import LogisticRegression\n",
        "\n",
        "mbti_df = pd.read_csv('mbti_1.csv')\n",
        "mbti_df['posts'] = mbti_df['posts'].astype(str)\n",
        "\n",
        "vectorizer = TfidfVectorizer()\n",
        "X = vectorizer.fit_transform(mbti_df['posts'])\n",
        "y = mbti_df['type']\n",
        "\n",
        "model = LogisticRegression(max_iter=1000)\n",
        "model.fit(X, y)\n",
        "\n",
        "user_mbti = input(\"본인의 MBTI를 입력하세요 : \") # 입력 받기\n",
        "user_text = input(\"텍스트를 입력하세요 (영어): \")\n",
        "\n",
        "user_text_vec = vectorizer.transform([user_text])\n",
        "\n",
        "predicted_mbti = model.predict(user_text_vec)[0] # MBTI 예측\n",
        "\n",
        "print(f\"예측된 MBTI: {predicted_mbti}\") # 예측 출력\n",
        "\n",
        "if predicted_mbti == user_mbti: # 성공, 실패 확인\n",
        "    print(\"예측 성공!\")\n",
        "else:\n",
        "    print(\"예측 실패!\")\n"
      ],
      "metadata": {
        "colab": {
          "base_uri": "https://localhost:8080/"
        },
        "id": "mhC54pgaSJib",
        "outputId": "b40f600c-3615-4600-e26d-e1bfaf194daa"
      },
      "execution_count": 8,
      "outputs": [
        {
          "output_type": "stream",
          "name": "stdout",
          "text": [
            "본인의 MBTI를 입력하세요 : INFP\n",
            "텍스트를 입력하세요 (영어): Hello, I'm a 23-year-old regular male student. I'm now experimenting with a code that predicts the person's mbti through the text I received. The data needed was mbti text data in the cagle I'm very excited about the results. Unfortunately, the data is based on English, so I think that more accurate results will be obtained only when the input text is also entered in English. I can't wait to see what the result will be. Hehe\n",
            "예측된 MBTI: INTJ\n",
            "예측 실패!\n"
          ]
        }
      ]
    }
  ],
  "metadata": {
    "colab": {
      "provenance": [],
      "authorship_tag": "ABX9TyNKxL5sdGfS/ptn5ceiTL/J",
      "include_colab_link": true
    },
    "kernelspec": {
      "display_name": "Python 3",
      "name": "python3"
    },
    "language_info": {
      "name": "python"
    }
  },
  "nbformat": 4,
  "nbformat_minor": 0
}