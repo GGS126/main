{
  "nbformat": 4,
  "nbformat_minor": 0,
  "metadata": {
    "colab": {
      "provenance": [],
      "authorship_tag": "ABX9TyOpayY4Pe7uUYGi5sKFBeTW",
      "include_colab_link": true
    },
    "kernelspec": {
      "name": "python3",
      "display_name": "Python 3"
    },
    "language_info": {
      "name": "python"
    }
  },
  "cells": [
    {
      "cell_type": "markdown",
      "metadata": {
        "id": "view-in-github",
        "colab_type": "text"
      },
      "source": [
        "<a href=\"https://colab.research.google.com/github/GGS126/main/blob/main/%EB%AC%B8%EC%A0%9C%ED%95%B4%EA%B2%B0%20%ED%92%8D%EC%86%8D%20%EA%B5%AC%ED%95%98%EA%B8%B0.ipynb\" target=\"_parent\"><img src=\"https://colab.research.google.com/assets/colab-badge.svg\" alt=\"Open In Colab\"/></a>"
      ]
    },
    {
      "cell_type": "code",
      "execution_count": 10,
      "metadata": {
        "colab": {
          "base_uri": "https://localhost:8080/"
        },
        "id": "HsrNVhilmRZw",
        "outputId": "982ced73-229e-4096-82dd-390602f6b068"
      },
      "outputs": [
        {
          "output_type": "stream",
          "name": "stdout",
          "text": [
            "지난 10년간 울릉도의 최대 풍속: 26.0 m/s\n"
          ]
        }
      ],
      "source": [
        "\n",
        "import csv\n",
        "\n",
        "def find_max_wind_speed(filename):\n",
        "  \"\"\"\n",
        "  지난 10년간 울릉도의 최대 풍속을 구하는 함수입니다.\n",
        "\n",
        "  Args:\n",
        "    filename: CSV 파일 이름.\n",
        "\n",
        "  Returns:\n",
        "    최대 풍속 값.\n",
        "  \"\"\"\n",
        "\n",
        "  max_wind_speed = 0\n",
        "  with open(filename, 'r', encoding='cp949') as file:\n",
        "    reader = csv.reader(file)\n",
        "    next(reader)\n",
        "\n",
        "    for row in reader:\n",
        "      try:\n",
        "        wind_speed = float(row[2])\n",
        "        if wind_speed > max_wind_speed:\n",
        "          max_wind_speed = wind_speed\n",
        "      except (ValueError, IndexError):\n",
        "        pass\n",
        "\n",
        "  return max_wind_speed\n",
        "\n",
        "filename = 'weather_a.csv'\n",
        "\n",
        "max_wind_speed = find_max_wind_speed(filename)\n",
        "\n",
        "print(f\"지난 10년간 울릉도의 최대 풍속: {max_wind_speed} m/s\")\n"
      ]
    }
  ]
}