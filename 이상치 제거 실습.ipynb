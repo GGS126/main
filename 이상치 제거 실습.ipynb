{
  "nbformat": 4,
  "nbformat_minor": 0,
  "metadata": {
    "colab": {
      "provenance": [],
      "authorship_tag": "ABX9TyOgbdA+KgnIJuGnJE+U5qsd",
      "include_colab_link": true
    },
    "kernelspec": {
      "name": "python3",
      "display_name": "Python 3"
    },
    "language_info": {
      "name": "python"
    }
  },
  "cells": [
    {
      "cell_type": "markdown",
      "metadata": {
        "id": "view-in-github",
        "colab_type": "text"
      },
      "source": [
        "<a href=\"https://colab.research.google.com/github/GGS126/main/blob/main/%EC%9D%B4%EC%83%81%EC%B9%98%20%EC%A0%9C%EA%B1%B0%20%EC%8B%A4%EC%8A%B5.ipynb\" target=\"_parent\"><img src=\"https://colab.research.google.com/assets/colab-badge.svg\" alt=\"Open In Colab\"/></a>"
      ]
    },
    {
      "cell_type": "code",
      "execution_count": 7,
      "metadata": {
        "colab": {
          "base_uri": "https://localhost:8080/"
        },
        "id": "BXfoUpy90J_A",
        "outputId": "2733a7b6-27b8-4a89-b5e2-7b2a9e20d2cb"
      },
      "outputs": [
        {
          "output_type": "stream",
          "name": "stdout",
          "text": [
            "이상치 제거 전 : [10, 12, 14, 15, 18, 100, 13, 11, 12, 14, 13, 12, 15]\n",
            "이상치 제거 후 : [10, 12, 14, 15, 18, 13, 11, 12, 14, 13, 12, 15]\n",
            "\n",
            "\n",
            "[표준화된 데이터] : \n",
            " [np.float64(-1.5882027766319677), np.float64(-0.6108472217815261), np.float64(0.36650833306891567), np.float64(0.8551861104941365), np.float64(2.321219442769799), np.float64(-0.12216944435630522), np.float64(-1.099524999206747), np.float64(-0.6108472217815261), np.float64(0.36650833306891567), np.float64(-0.12216944435630522), np.float64(-0.6108472217815261), np.float64(0.8551861104941365)]\n",
            "\n",
            "\n",
            "[정규화된 데이터] : \n",
            " [0.0, 0.25, 0.5, 0.625, 1.0, 0.375, 0.125, 0.25, 0.5, 0.375, 0.25, 0.625]\n"
          ]
        }
      ],
      "source": [
        "import numpy as np\n",
        "\n",
        "data = [10, 12, 14, 15, 18, 100, 13, 11, 12, 14, 13, 12, 15]\n",
        "\n",
        "def remove_outliers_iqr(data):\n",
        "    q1 = np.percentile(data, 25)\n",
        "    q3 = np.percentile(data, 75)\n",
        "    iqr = q3 - q1\n",
        "    lower_bound = q1 - 1.5 * iqr\n",
        "    upper_bound = q3 + 1.5 * iqr\n",
        "    return [x for x in data if lower_bound <= x <= upper_bound]\n",
        "\n",
        "def standardize(data):\n",
        "    mean = np.mean(data)\n",
        "    std = np.std(data)\n",
        "    return [(x - mean) / std for x in data]\n",
        "\n",
        "def normalize(data):\n",
        "    min_val = min(data)\n",
        "    max_val = max(data)\n",
        "    return [(x - min_val) / (max_val - min_val) for x in data]\n",
        "\n",
        "clean_data = remove_outliers_iqr(data)\n",
        "z_score_data = standardize(clean_data)\n",
        "normalized_data = normalize(clean_data)\n",
        "\n",
        "print(\"이상치 제거 전 :\", data)\n",
        "print(\"이상치 제거 후 :\", clean_data)\n",
        "print(\"\\n\")\n",
        "print(\"[표준화된 데이터] : \\n\", z_score_data)\n",
        "print(\"\\n\")\n",
        "print(\"[정규화된 데이터] : \\n\", normalized_data)\n"
      ]
    }
  ]
}